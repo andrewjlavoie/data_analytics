{
 "cells": [
  {
   "cell_type": "code",
   "execution_count": null,
   "metadata": {},
   "outputs": [],
   "source": [
    "#import libraries and config\n",
    "import pandas as pd\n",
    "import seaborn as sns\n",
    "import pymongo\n",
    "import pprint\n",
    "import matplotlib.pyplot as plt\n",
    "\n",
    "import config\n",
    "\n",
    "client = pymongo.MongoClient('''ENTER YOUR ATLAS URI HERE''')\n",
    "collection = client['ship_analysis']['data']\n"
   ]
  },
  {
   "cell_type": "code",
   "execution_count": null,
   "metadata": {},
   "outputs": [],
   "source": [
    "#build dataframe with ALL documents in collection\n",
    "shipsdf = pd.DataFrame(collection.find())"
   ]
  },
  {
   "cell_type": "code",
   "execution_count": null,
   "metadata": {},
   "outputs": [],
   "source": [
    "#look at first 5\n",
    "shipsdf.head()"
   ]
  },
  {
   "cell_type": "code",
   "execution_count": null,
   "metadata": {},
   "outputs": [],
   "source": [
    "#build aggregation to filter and project what we want the dataframe to look like\n",
    "filtered_documents = collection.aggregate([\n",
    "    {\n",
    "        '$match': { \n",
    "            'mil_flag': True,\n",
    "        }\n",
    "    }, {\n",
    "        '$project': {\n",
    "            'label': '$ground_truth.detections.label', \n",
    "            'ship_size': '$ground_truth.detections.Ship_size',\n",
    "            'ship_loc': '$ground_truth.detections.Ship_location',\n",
    "            'ship_area': '$ground_truth.detections.Ship_area', \n",
    "            'geoloc_coords': '$geolocation.coordinates'\n",
    "        }\n",
    "    }\n",
    "])\n",
    "\n",
    "shipsdf = pd.DataFrame(filtered_documents)"
   ]
  },
  {
   "cell_type": "code",
   "execution_count": null,
   "metadata": {},
   "outputs": [],
   "source": [
    "#look at first 5\n",
    "shipsdf.head()"
   ]
  },
  {
   "cell_type": "code",
   "execution_count": null,
   "metadata": {},
   "outputs": [],
   "source": [
    "# view statistics of numerical values\n",
    "shipsdf.describe()"
   ]
  },
  {
   "cell_type": "code",
   "execution_count": null,
   "metadata": {},
   "outputs": [],
   "source": [
    "# check for nulls\n",
    "shipsdf.isnull().sum()"
   ]
  },
  {
   "cell_type": "code",
   "execution_count": null,
   "metadata": {},
   "outputs": [],
   "source": [
    "plt.figure(figsize=(12.8, 7.2))\n",
    "sns.displot(\n",
    "    data=shipsdf,\n",
    "    x='ship_area',\n",
    "    kde=True\n",
    ")"
   ]
  },
  {
   "cell_type": "code",
   "execution_count": null,
   "metadata": {},
   "outputs": [],
   "source": [
    "smaller_shipsdf = shipsdf.drop(shipsdf[shipsdf.ship_area > 150000].index)\n"
   ]
  },
  {
   "cell_type": "code",
   "execution_count": null,
   "metadata": {},
   "outputs": [],
   "source": [
    "plt.figure(figsize=(12.8, 7.2))\n",
    "sns.displot(\n",
    "    data=smaller_shipsdf,\n",
    "    x='ship_area',\n",
    "    kde=True\n",
    ")"
   ]
  }
 ],
 "metadata": {
  "kernelspec": {
   "display_name": "Python 3.9.7 ('base')",
   "language": "python",
   "name": "python3"
  },
  "language_info": {
   "codemirror_mode": {
    "name": "ipython",
    "version": 3
   },
   "file_extension": ".py",
   "mimetype": "text/x-python",
   "name": "python",
   "nbconvert_exporter": "python",
   "pygments_lexer": "ipython3",
   "version": "3.9.7"
  },
  "orig_nbformat": 4,
  "vscode": {
   "interpreter": {
    "hash": "287ade3a48acf6c283f46499837d4bedfc9d573c015de1a1eab4a4091e2ced10"
   }
  }
 },
 "nbformat": 4,
 "nbformat_minor": 2
}
